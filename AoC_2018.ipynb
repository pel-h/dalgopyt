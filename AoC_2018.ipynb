{
 "cells": [
  {
   "cell_type": "markdown",
   "metadata": {},
   "source": [
    "# Advent of Code 2018\n",
    "\n",
    "See https://adventofcode.com/2018 for details."
   ]
  },
  {
   "cell_type": "markdown",
   "metadata": {},
   "source": [
    "## Advent Day 1\n",
    "First day read the input file, and then\n",
    "* compute the resulting frequency\n",
    "* find the first frequency that the device reaches twice"
   ]
  },
  {
   "cell_type": "code",
   "execution_count": 30,
   "metadata": {},
   "outputs": [],
   "source": [
    "with open('input.txt') as file:\n",
    "     changes = [int(line.rstrip().strip('+')) for line in file]\n",
    "file.close()"
   ]
  },
  {
   "cell_type": "code",
   "execution_count": 31,
   "metadata": {},
   "outputs": [
    {
     "name": "stdout",
     "output_type": "stream",
     "text": [
      "The resulting frequency: 516\n"
     ]
    }
   ],
   "source": [
    "res_freq = sum(changes)\n",
    "print(\"The resulting frequency: {0:d}\".format(res_freq))"
   ]
  },
  {
   "cell_type": "code",
   "execution_count": 32,
   "metadata": {},
   "outputs": [
    {
     "name": "stdout",
     "output_type": "stream",
     "text": [
      "The first frequency reached twice: 71892\n"
     ]
    }
   ],
   "source": [
    "freq = {}\n",
    "cur_freq = 0\n",
    "freq[cur_freq]=1\n",
    "found = False\n",
    "\n",
    "while not found :\n",
    "    for x in changes:\n",
    "        cur_freq += x\n",
    "        if freq.get(cur_freq):\n",
    "            found = True\n",
    "            break\n",
    "        else:\n",
    "            freq[cur_freq]=1\n",
    "        \n",
    "print(\"The first frequency reached twice: {0:d}\".format(cur_freq))"
   ]
  },
  {
   "cell_type": "markdown",
   "metadata": {},
   "source": [
    "## Advent Day 2"
   ]
  },
  {
   "cell_type": "code",
   "execution_count": null,
   "metadata": {},
   "outputs": [],
   "source": []
  }
 ],
 "metadata": {
  "kernelspec": {
   "display_name": "Python 3",
   "language": "python",
   "name": "python3"
  },
  "language_info": {
   "codemirror_mode": {
    "name": "ipython",
    "version": 3
   },
   "file_extension": ".py",
   "mimetype": "text/x-python",
   "name": "python",
   "nbconvert_exporter": "python",
   "pygments_lexer": "ipython3",
   "version": "3.6.4"
  }
 },
 "nbformat": 4,
 "nbformat_minor": 2
}
