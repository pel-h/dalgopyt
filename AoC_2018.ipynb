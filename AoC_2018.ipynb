{
 "cells": [
  {
   "cell_type": "markdown",
   "metadata": {},
   "source": [
    "# Advent of Code 2018\n",
    "\n",
    "See https://adventofcode.com/2018 for details."
   ]
  },
  {
   "cell_type": "markdown",
   "metadata": {},
   "source": [
    "## Day 1\n",
    "First day challenge.\n",
    "So read the input file with all the frequency changes, and then\n",
    "* Compute the resulting frequency,\n",
    "* Find the first frequency that the device reaches twice (once you reach the last change, restar from the start)."
   ]
  },
  {
   "cell_type": "code",
   "execution_count": 1,
   "metadata": {},
   "outputs": [],
   "source": [
    "with open('input.txt') as file:\n",
    "     changes = [int(line.rstrip().strip('+')) for line in file]\n",
    "file.close()"
   ]
  },
  {
   "cell_type": "code",
   "execution_count": 2,
   "metadata": {},
   "outputs": [
    {
     "name": "stdout",
     "output_type": "stream",
     "text": [
      "The resulting frequency: 516\n"
     ]
    }
   ],
   "source": [
    "res_freq = sum(changes)\n",
    "print(\"The resulting frequency: {0:d}\".format(res_freq))"
   ]
  },
  {
   "cell_type": "code",
   "execution_count": 3,
   "metadata": {},
   "outputs": [
    {
     "name": "stdout",
     "output_type": "stream",
     "text": [
      "The first frequency reached twice: 71892\n"
     ]
    }
   ],
   "source": [
    "freq = {}\n",
    "cur_freq = 0\n",
    "freq[cur_freq] = 1\n",
    "found = False\n",
    "\n",
    "while not found :\n",
    "    for x in changes:\n",
    "        cur_freq += x\n",
    "        if freq.get(cur_freq):\n",
    "            found = True\n",
    "            break\n",
    "        else:\n",
    "            freq[cur_freq] = 1\n",
    "        \n",
    "print(\"The first frequency reached twice: {0:d}\".format(cur_freq))"
   ]
  },
  {
   "cell_type": "markdown",
   "metadata": {},
   "source": [
    "## Day 2\n",
    "\n",
    "Second day challenge. Read another input file with all the box labels, and then\n",
    "* Count the number of label that contains 2 (count2) or 3 (count3) times the same characters, the checksum is the product count2*count3\n",
    "* Find two boxes whose labels differ by exactly one character at the same position in both strings, and print the common letters."
   ]
  },
  {
   "cell_type": "code",
   "execution_count": 4,
   "metadata": {},
   "outputs": [],
   "source": [
    "with open('boxInput.txt') as file:\n",
    "     boxes = [line.rstrip() for line in file]\n",
    "file.close()"
   ]
  },
  {
   "cell_type": "code",
   "execution_count": 5,
   "metadata": {},
   "outputs": [
    {
     "name": "stdout",
     "output_type": "stream",
     "text": [
      "Checksum is 246 * 23 = 5658\n"
     ]
    }
   ],
   "source": [
    "label2char = dict()\n",
    "label3char = dict()\n",
    "for label in boxes:   \n",
    "    chars = dict()\n",
    "    for char in label:\n",
    "        if chars.get(char) :\n",
    "            chars[char] += 1\n",
    "        else :\n",
    "            chars[char] = 1\n",
    "    for char in chars:\n",
    "        if (chars[char] == 2):\n",
    "            label2char[label] = 1\n",
    "        if (chars[char] == 3):\n",
    "            label3char[label] = 1\n",
    "\n",
    "count2 = len(label2char)\n",
    "count3 = len(label3char)   \n",
    "  \n",
    "print(\"Checksum is {0:d} * {1:d} = {2:d}\".format(count2, count3, count2*count3))"
   ]
  },
  {
   "cell_type": "code",
   "execution_count": 6,
   "metadata": {},
   "outputs": [
    {
     "name": "stdout",
     "output_type": "stream",
     "text": [
      "Common letters between the two correct box IDs: nmgyjkpruszlbaqwficavxneo\n"
     ]
    }
   ],
   "source": [
    "for i1 in range(len(boxes)):\n",
    "    label1 = boxes[i1]\n",
    "    for i2 in range(i1+1, len(boxes)):\n",
    "        label2 = boxes[i2]\n",
    "        count=0\n",
    "        for i in range(len(label1)):\n",
    "            if (label1[i]!=label2[i]):\n",
    "                count += 1\n",
    "            if (count > 1):\n",
    "                break\n",
    "        if (count == 1):\n",
    "            for i in range(len(label1)):\n",
    "                if (label1[i]!=label2[i]):\n",
    "                    common=label1.replace(label1[i],\"\")\n",
    "                    break\n",
    "            print(\"Common letters between the two correct box IDs: {0:s}\".format(common))\n",
    "                "
   ]
  },
  {
   "cell_type": "markdown",
   "metadata": {},
   "source": [
    "## Day 3\n",
    "\n",
    "For this challenge, the input file contains all the piece of fabrics that we put in a list (ID, position x, position y, width, heigth), then\n",
    "\n",
    "* Count the number of overlapping position\n",
    "* Find the piece of fabric that doesn't overlap any other\n"
   ]
  },
  {
   "cell_type": "code",
   "execution_count": 7,
   "metadata": {},
   "outputs": [],
   "source": [
    "import re\n",
    "\n",
    "with open('fabricInput.txt') as file:\n",
    "     fabrics = [re.split(\"#|@|,|:|x\",line.rstrip()) for line in file]\n",
    "file.close()"
   ]
  },
  {
   "cell_type": "code",
   "execution_count": 8,
   "metadata": {},
   "outputs": [
    {
     "name": "stdout",
     "output_type": "stream",
     "text": [
      "Number of overlapping position: 101781\n"
     ]
    }
   ],
   "source": [
    "fabric_size = 1000\n",
    "fabric = [[0]*fabric_size for _ in range(fabric_size)]\n",
    "\n",
    "for x in fabrics:\n",
    "    for i in range(int(x[4])):\n",
    "        for j in range(int(x[5])):\n",
    "            fabric[int(x[2])+i][int(x[3])+j]+=1\n",
    "\n",
    "count = 0\n",
    "for i in range(fabric_size):\n",
    "    for j in range(fabric_size):\n",
    "        if (fabric[i][j] > 1):\n",
    "            count += 1\n",
    "\n",
    "print(\"Number of overlapping position: {0:d}\".format(count))\n",
    "     "
   ]
  },
  {
   "cell_type": "code",
   "execution_count": 9,
   "metadata": {},
   "outputs": [
    {
     "name": "stdout",
     "output_type": "stream",
     "text": [
      "Fabric wit ID 909 is not overlapping\n"
     ]
    }
   ],
   "source": [
    "for x in fabrics:\n",
    "    check = True\n",
    "    i=0\n",
    "\n",
    "    while (check and (i<int(x[4]))):\n",
    "        j = 0\n",
    "        while (check and (j<int(x[5]))):\n",
    "            check = (fabric[int(x[2])+i][int(x[3])+j] == 1)\n",
    "            j += 1\n",
    "        i += 1\n",
    "    if check :\n",
    "        print(\"Fabric wit ID {0:s}is not overlapping\".format(x[1]))"
   ]
  },
  {
   "cell_type": "markdown",
   "metadata": {},
   "source": [
    "## Day 4"
   ]
  },
  {
   "cell_type": "code",
   "execution_count": null,
   "metadata": {},
   "outputs": [],
   "source": []
  }
 ],
 "metadata": {
  "kernelspec": {
   "display_name": "Python 3",
   "language": "python",
   "name": "python3"
  },
  "language_info": {
   "codemirror_mode": {
    "name": "ipython",
    "version": 3
   },
   "file_extension": ".py",
   "mimetype": "text/x-python",
   "name": "python",
   "nbconvert_exporter": "python",
   "pygments_lexer": "ipython3",
   "version": "3.6.4"
  }
 },
 "nbformat": 4,
 "nbformat_minor": 2
}
